{
  "nbformat": 4,
  "nbformat_minor": 0,
  "metadata": {
    "colab": {
      "name": "linearRegressionAlgorithm.ipynb",
      "provenance": [],
      "collapsed_sections": [],
      "authorship_tag": "ABX9TyNtTK5b7U9S+03U0ZzVt+WK",
      "include_colab_link": true
    },
    "kernelspec": {
      "name": "python3",
      "display_name": "Python 3"
    },
    "language_info": {
      "name": "python"
    }
  },
  "cells": [
    {
      "cell_type": "markdown",
      "metadata": {
        "id": "view-in-github",
        "colab_type": "text"
      },
      "source": [
        "<a href=\"https://colab.research.google.com/github/danieldmarmolr/googlecolab/blob/main/linearRegressionAlgorithm.ipynb\" target=\"_parent\"><img src=\"https://colab.research.google.com/assets/colab-badge.svg\" alt=\"Open In Colab\"/></a>"
      ]
    },
    {
      "cell_type": "code",
      "metadata": {
        "id": "p4DgNDWOEITs"
      },
      "source": [
        "import numpy as np \n",
        "import matplotlib.pyplot as plt"
      ],
      "execution_count": null,
      "outputs": []
    },
    {
      "cell_type": "code",
      "metadata": {
        "id": "7Sf0XlLZEoU0"
      },
      "source": [
        "def estimate_b0_b1(x, y):\n",
        "    n = np.size(x)\n",
        "\n",
        "    #Obtener promedios de X, Y\n",
        "    m_x, m_y = np.mean(x), np.mean(y)\n",
        "\n",
        "    #Calcular sumatoria XY y XX\n",
        "    sumatoria_xy = np.sum((x-m_x)*(y-m_y))\n",
        "    sumatoria_xx = np.sum((x-m_x)**2)\n",
        "\n",
        "    #coeficientes de regresión\n",
        "    b_1 = sumatoria_xy / sumatoria_xx\n",
        "    b_0 = m_y - b_1*m_x\n",
        "\n",
        "    return(b_0, b_1)"
      ],
      "execution_count": null,
      "outputs": []
    },
    {
      "cell_type": "code",
      "metadata": {
        "id": "8zISifftKvGp"
      },
      "source": [
        "#Funcion de graficado\n",
        "def plot_regression(x, y, b):\n",
        "    #Gráfica e varios puntos\n",
        "    plt.scatter(x, y, color = \"g\", marker = \"o\", s=30)\n",
        "\n",
        "    y_pred = b[0] + b[1]*x\n",
        "    plt.plot(x, y_pred, color = \"b\")\n",
        "    \n",
        "    #etiquetado\n",
        "    plt.xlabel('x-Ind')\n",
        "    plt.ylabel('y-Dep')\n",
        "    plt.show()   "
      ],
      "execution_count": null,
      "outputs": []
    },
    {
      "cell_type": "code",
      "metadata": {
        "colab": {
          "base_uri": "https://localhost:8080/",
          "height": 296
        },
        "id": "GbC6-HzMNUcr",
        "outputId": "660d5e7d-2023-4a4d-a6f3-8f90a170767e"
      },
      "source": [
        "#Codigo MAIN\n",
        "def main():\n",
        "    #DataSET\n",
        "    x = np.array([1, 2, 3, 4, 5])\n",
        "    y = np.array([2, 3, 5, 6, 5])\n",
        "\n",
        "    #obtenemos b0 y b1\n",
        "    b = estimate_b0_b1(x, y)\n",
        "    print(\"Los valores de b0 = {}, b1 = {}\".format(b[0], b[1]))\n",
        "    plot_regression(x, y, b)\n",
        "\n",
        "if __name__ == \"__main__\":\n",
        "    main()"
      ],
      "execution_count": null,
      "outputs": [
        {
          "output_type": "stream",
          "text": [
            "Los valores de b0 = 1.5, b1 = 0.9\n"
          ],
          "name": "stdout"
        },
        {
          "output_type": "display_data",
          "data": {
            "image/png": "[encoded data removed]",
            "text/plain": [
              "<Figure size 432x288 with 1 Axes>"
            ]
          },
          "metadata": {
            "tags": [],
            "needs_background": "light"
          }
        }
      ]
    }
  ]
}